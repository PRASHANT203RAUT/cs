{
  "nbformat": 4,
  "nbformat_minor": 0,
  "metadata": {
    "colab": {
      "provenance": [],
      "authorship_tag": "ABX9TyNUdPi/KDPq159fkx94JA8p",
      "include_colab_link": true
    },
    "kernelspec": {
      "name": "python3",
      "display_name": "Python 3"
    },
    "language_info": {
      "name": "python"
    }
  },
  "cells": [
    {
      "cell_type": "markdown",
      "metadata": {
        "id": "view-in-github",
        "colab_type": "text"
      },
      "source": [
        "<a href=\"https://colab.research.google.com/github/PRASHANT203RAUT/cs/blob/main/Untitled2.ipynb\" target=\"_parent\"><img src=\"https://colab.research.google.com/assets/colab-badge.svg\" alt=\"Open In Colab\"/></a>"
      ]
    },
    {
      "cell_type": "code",
      "execution_count": null,
      "metadata": {
        "id": "AFnOEy7a5frU"
      },
      "outputs": [],
      "source": []
    },
    {
      "cell_type": "code",
      "source": [
        "import numpy as n\n",
        "import statistics as s\n",
        "import matplotlib.pyplot as plt\n",
        "x=[12,23,23,21,45,32,56,34,65]\n",
        "y=[14,24,17,15,25,71,14,14,25]\n",
        "a=n.mean(x)\n",
        "print(\"statistics for x \")\n",
        "print(\"\\nMean =\",a)\n",
        "a=n.std(x)\n",
        "print(\"\\nstandard deviation =\",a)\n",
        "a=n.var(x)\n",
        "print(\"\\nVariance =\",a)\n",
        "m=len(x)\n",
        "x.sort()\n",
        "if m%2==0:\n",
        "   m1=x[n//2]\n",
        "   m2=x[n//2-1]\n",
        "   me=(m1+m2)/2\n",
        "else:\n",
        "   me=x[m//2]\n",
        "print(\"\\nMedian is\",me)\n",
        "\n",
        "print(\"\\nModeis :\",s.mode(y))   \n",
        " "
      ],
      "metadata": {
        "colab": {
          "base_uri": "https://localhost:8080/"
        },
        "id": "7b9bYbECINN4",
        "outputId": "500a9ba7-2be8-42f6-fc2a-e971de3fb7f1"
      },
      "execution_count": 1,
      "outputs": [
        {
          "output_type": "stream",
          "name": "stdout",
          "text": [
            "statistics for x \n",
            "\n",
            "Mean = 34.55555555555556\n",
            "\n",
            "standard deviation = 16.54026139193635\n",
            "\n",
            "Variance = 273.58024691358025\n",
            "\n",
            "Median is 32\n",
            "\n",
            "Modeis : 14\n"
          ]
        }
      ]
    },
    {
      "cell_type": "code",
      "source": [],
      "metadata": {
        "id": "CGAeTZ4Z5jUI"
      },
      "execution_count": null,
      "outputs": []
    },
    {
      "cell_type": "code",
      "source": [
        "import matplotlib.pyplot as plt\n",
        "x=[12,23,23,21,45,32,56,34,65]\n",
        "y=[14,24,17,15,25,71,14,14,25]\n",
        "plt.hist(x)  \n",
        "plt.hist(y)"
      ],
      "metadata": {
        "id": "lqwlYZOkLm3c",
        "colab": {
          "base_uri": "https://localhost:8080/",
          "height": 317
        },
        "outputId": "7641aa93-3f0a-4958-dbfe-8c20369c2c13"
      },
      "execution_count": 2,
      "outputs": [
        {
          "output_type": "execute_result",
          "data": {
            "text/plain": [
              "(array([5., 3., 0., 0., 0., 0., 0., 0., 0., 1.]),\n",
              " array([14. , 19.7, 25.4, 31.1, 36.8, 42.5, 48.2, 53.9, 59.6, 65.3, 71. ]),\n",
              " <a list of 10 Patch objects>)"
            ]
          },
          "metadata": {},
          "execution_count": 2
        },
        {
          "output_type": "display_data",
          "data": {
            "text/plain": [
              "<Figure size 432x288 with 1 Axes>"
            ],
            "image/png": "[encoded data removed]"
          },
          "metadata": {
            "needs_background": "light"
          }
        }
      ]
    },
    {
      "cell_type": "code",
      "source": [],
      "metadata": {
        "id": "zmhl1gpg5nfy"
      },
      "execution_count": null,
      "outputs": []
    },
    {
      "cell_type": "code",
      "source": [
        "plt.boxplot(x,y)\n",
        "#plt.boxplot(y)"
      ],
      "metadata": {
        "id": "TPofVzkuSa8X",
        "colab": {
          "base_uri": "https://localhost:8080/",
          "height": 404
        },
        "outputId": "5b470e53-3efd-44cb-f402-d47d9056a97f"
      },
      "execution_count": 3,
      "outputs": [
        {
          "output_type": "execute_result",
          "data": {
            "text/plain": [
              "{'whiskers': [<matplotlib.lines.Line2D at 0x7f0d9bc1a490>,\n",
              "  <matplotlib.lines.Line2D at 0x7f0d9bc1a7f0>],\n",
              " 'caps': [<matplotlib.lines.Line2D at 0x7f0d9bc1ab50>,\n",
              "  <matplotlib.lines.Line2D at 0x7f0d9bc1aeb0>],\n",
              " 'boxes': [<matplotlib.lines.Line2D at 0x7f0d9bc1a130>],\n",
              " 'medians': [<matplotlib.lines.Line2D at 0x7f0d9bba4250>],\n",
              " 'fliers': [<matplotlib.lines.Line2D at 0x7f0d9bba4550>],\n",
              " 'means': []}"
            ]
          },
          "metadata": {},
          "execution_count": 3
        },
        {
          "output_type": "display_data",
          "data": {
            "text/plain": [
              "<Figure size 432x288 with 1 Axes>"
            ],
            "image/png": "[encoded data removed]"
          },
          "metadata": {
            "needs_background": "light"
          }
        }
      ]
    }
  ]
}